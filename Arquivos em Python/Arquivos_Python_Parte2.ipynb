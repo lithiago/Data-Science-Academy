{
 "cells": [
  {
   "cell_type": "markdown",
   "id": "e0240a4c-a9e3-47dd-97f0-ad2e31ca220e",
   "metadata": {},
   "source": [
    "### Manipulando Arquivos TXT "
   ]
  },
  {
   "cell_type": "code",
   "execution_count": 4,
   "id": "4cb9fbbd-c53e-4db7-b022-196a55fc3507",
   "metadata": {},
   "outputs": [],
   "source": [
    "texto = \"Cientista de Dados poder ser uma exclentee carreira\\n\"\n",
    "texto += \"Python é uma linguagem muito importante para essa área\\n\"\n",
    "texto += \"Pandas, Numpy e Sckity-Learn são uma das bibliotecas mais usadas\\n\""
   ]
  },
  {
   "cell_type": "code",
   "execution_count": 3,
   "id": "7d75d481-ee49-4226-977f-d0406c29cb42",
   "metadata": {},
   "outputs": [],
   "source": [
    "# Importanto o módulo os\n",
    "import os"
   ]
  },
  {
   "cell_type": "code",
   "execution_count": 5,
   "id": "3349a881-f12d-48e6-811b-1e00ab0ec520",
   "metadata": {},
   "outputs": [],
   "source": [
    "# Criando um arquivo\n",
    "arquivo = open(os.path.join(\"arquivos/cientista.txt\"), \"w\")"
   ]
  },
  {
   "cell_type": "code",
   "execution_count": 6,
   "id": "97f7040a-2f2f-42c8-a7cf-f8a0ddfc1ee8",
   "metadata": {},
   "outputs": [],
   "source": [
    "for palavra in texto.split():\n",
    "    arquivo.write(palavra + \" \")"
   ]
  },
  {
   "cell_type": "code",
   "execution_count": 9,
   "id": "b926c433-1d78-4def-82b9-7a89ff4c6550",
   "metadata": {},
   "outputs": [
    {
     "name": "stdout",
     "output_type": "stream",
     "text": [
      "Cientista de Dados poder ser uma exclentee carreiraPython é uma linguagem muito importante para essa área \n"
     ]
    }
   ],
   "source": [
    "arquivo.close()\n",
    "arquivo = open(os.path.join(\"arquivos/cientista.txt\"), \"r\")\n",
    "print(arquivo.read())\n",
    "arquivo.close()"
   ]
  },
  {
   "cell_type": "markdown",
   "id": "5f01de19-b798-435e-86c7-ce5aa54d2377",
   "metadata": {},
   "source": [
    "### Usando a Expressão with\n",
    "O método close() é executado automaticamente"
   ]
  },
  {
   "cell_type": "code",
   "execution_count": 16,
   "id": "ce6a519e-94d3-4c1c-9afa-e1f871ac6091",
   "metadata": {},
   "outputs": [],
   "source": [
    "with open(\"arquivos/cientista.txt\", \"w\") as arquivo:\n",
    "    arquivo.write(texto[:51])\n",
    "    arquivo.write('\\n')"
   ]
  },
  {
   "cell_type": "code",
   "execution_count": 17,
   "id": "434820b6-7597-476e-84d1-10f5787784a7",
   "metadata": {},
   "outputs": [
    {
     "name": "stdout",
     "output_type": "stream",
     "text": [
      "Cientista de Dados poder ser uma exclentee carreira\n",
      "\n"
     ]
    }
   ],
   "source": [
    "with open(\"arquivos/cientista.txt\", \"r\") as arquivo:\n",
    "    conteudo = arquivo.read()\n",
    "print(conteudo)"
   ]
  },
  {
   "cell_type": "markdown",
   "id": "ca19692b-6b69-4aae-92b2-71d8d41f821e",
   "metadata": {},
   "source": [
    "### Manipulando Arquivos CSV"
   ]
  },
  {
   "cell_type": "code",
   "execution_count": 18,
   "id": "7bac3ebc-56df-421a-86b7-0776967974dc",
   "metadata": {},
   "outputs": [],
   "source": [
    "import csv"
   ]
  },
  {
   "cell_type": "code",
   "execution_count": 20,
   "id": "519f4509-1ae8-4286-9e20-5b4a492bc988",
   "metadata": {},
   "outputs": [],
   "source": [
    "with open(\"arquivos/numeros.csv\", \"w\") as arquivo:\n",
    "    writer = csv.writer(arquivo)\n",
    "    writer.writerow(('nota1', 'nota2', 'nota3'))\n",
    "    writer.writerow((63,32,54))\n",
    "    writer.writerow((65,12,14))\n",
    "    writer.writerow((83,31,84))"
   ]
  },
  {
   "cell_type": "code",
   "execution_count": 29,
   "id": "d1821d0d-0f2a-40cb-93cb-18b4c3091fa3",
   "metadata": {},
   "outputs": [
    {
     "name": "stdout",
     "output_type": "stream",
     "text": [
      "['nota1', 'nota2', 'nota3']\n",
      "['63', '32', '54']\n",
      "['65', '12', '14']\n",
      "['83', '31', '84']\n"
     ]
    }
   ],
   "source": [
    "\n",
    "with open(\"arquivos/numeros.csv\", \"r\", encoding=\"utf8\", newline = \"\\r\\n\") as arquivo:\n",
    "    leitor = csv.reader(arquivo)\n",
    "    for x in leitor:\n",
    "        print(x)"
   ]
  },
  {
   "cell_type": "code",
   "execution_count": 31,
   "id": "a18e1035-1995-498a-855c-a09be8c98db0",
   "metadata": {},
   "outputs": [
    {
     "name": "stdout",
     "output_type": "stream",
     "text": [
      "[['nota1', 'nota2', 'nota3'], ['63', '32', '54'], ['65', '12', '14'], ['83', '31', '84']]\n"
     ]
    }
   ],
   "source": [
    "with open(\"arquivos/numeros.csv\", \"r\", encoding=\"utf8\", newline = \"\\r\\n\") as arquivo:\n",
    "    leitor = csv.reader(arquivo)\n",
    "    dados = list(leitor)\n",
    "print(dados)"
   ]
  },
  {
   "cell_type": "markdown",
   "id": "4da83501-8f37-42b9-8183-05bd01678cc6",
   "metadata": {},
   "source": [
    "### Manipulando Arquivos JSON (Java Script Object Notation\n",
    "JSON é um formato de dados de texto simples e leve que é utilizado para transmitir inofrmações em aplicações web. É baseado em uma estrutura de objetos JavaScript e usa pares de chave-valor para representar dados. JSON é facilmente lido e escrito por máquinas e é amplamente utilizado como formato de intercâmbio de dados em aplicaçõexs web modernas"
   ]
  },
  {
   "cell_type": "code",
   "execution_count": 32,
   "id": "f62ef139-b72f-4d5a-ad50-e0f45f53660b",
   "metadata": {},
   "outputs": [],
   "source": [
    "dict_guido = {'nome': 'Guido van Rossum',\n",
    "             'linguagem': 'Python',\n",
    "              'similar': ['c', 'Modula-3', 'lisp'],\n",
    "              'user': 1000000\n",
    "             }"
   ]
  },
  {
   "cell_type": "code",
   "execution_count": 34,
   "id": "931d710e-85eb-47a9-b7f7-0eeeb5418747",
   "metadata": {},
   "outputs": [],
   "source": [
    "import json"
   ]
  },
  {
   "cell_type": "code",
   "execution_count": 35,
   "id": "07ed957c-4e00-4dca-a0fa-5c49fe5fabda",
   "metadata": {},
   "outputs": [
    {
     "data": {
      "text/plain": [
       "'{\"nome\": \"Guido van Rossum\", \"linguagem\": \"Python\", \"similar\": [\"c\", \"Modula-3\", \"lisp\"], \"user\": 1000000}'"
      ]
     },
     "execution_count": 35,
     "metadata": {},
     "output_type": "execute_result"
    }
   ],
   "source": [
    "# Converterndo dict para json object\n",
    "json.dumps(dict_guido)"
   ]
  },
  {
   "cell_type": "code",
   "execution_count": 36,
   "id": "2cbe80a9-bdf3-466e-9653-82a5ff784e60",
   "metadata": {},
   "outputs": [],
   "source": [
    "with open(\"arquivos/dados.json\", \"w\") as arquivo:\n",
    "    arquivo.write(json.dumps(dict_guido))"
   ]
  },
  {
   "cell_type": "code",
   "execution_count": 39,
   "id": "a70b72ef-094b-41ad-bc56-ac982168810c",
   "metadata": {},
   "outputs": [],
   "source": [
    "with open(\"arquivos/dados.json\", \"r\") as arquivo:\n",
    "    texto = arquivo.read()\n",
    "    dados = json.loads(texto)"
   ]
  },
  {
   "cell_type": "code",
   "execution_count": 40,
   "id": "00d64076-e0d6-426c-af1b-2e8be2f6947a",
   "metadata": {},
   "outputs": [
    {
     "name": "stdout",
     "output_type": "stream",
     "text": [
      "{'nome': 'Guido van Rossum', 'linguagem': 'Python', 'similar': ['c', 'Modula-3', 'lisp'], 'user': 1000000}\n"
     ]
    }
   ],
   "source": [
    "print(dados)"
   ]
  },
  {
   "cell_type": "markdown",
   "id": "8b921747-9e78-4075-ab4c-af203d3de0c4",
   "metadata": {},
   "source": [
    "### Extração de Arquivo da Web"
   ]
  },
  {
   "cell_type": "code",
   "execution_count": 43,
   "id": "cc8ed880-2d5f-4e5d-aedc-28d17dfce82c",
   "metadata": {},
   "outputs": [],
   "source": [
    "from urllib.request import urlopen"
   ]
  },
  {
   "cell_type": "code",
   "execution_count": 46,
   "id": "767cddb4-e5fb-4756-9a15-7cea326e8243",
   "metadata": {},
   "outputs": [],
   "source": [
    "response = urlopen(\"http://vimeo.com/api/v2/video/57733101.json\").read().decode('utf8')\n",
    "dados = json.loads(response)[0]"
   ]
  },
  {
   "cell_type": "code",
   "execution_count": 49,
   "id": "8ab532fb-7988-46d1-9146-c13d88faa384",
   "metadata": {},
   "outputs": [
    {
     "name": "stdout",
     "output_type": "stream",
     "text": [
      "Título: The Good Man trailer\n",
      "URL: https://vimeo.com/57733101\n",
      "Duração: 143\n",
      "Número de Visualizações: 6817\n"
     ]
    }
   ],
   "source": [
    "print(\"Título:\", dados['title'])\n",
    "print(\"URL:\", dados['url'])\n",
    "print(\"Duração:\", dados['duration'])\n",
    "print(\"Número de Visualizações:\", dados['stats_number_of_plays'])"
   ]
  },
  {
   "cell_type": "markdown",
   "id": "bb971c4d-ca50-45e0-8f9b-4f6783dfa3c2",
   "metadata": {},
   "source": [
    "### Copiando o conteúdo de um arquivo."
   ]
  },
  {
   "cell_type": "code",
   "execution_count": 50,
   "id": "018e77d7-d57e-44c9-bfac-23e78fc48053",
   "metadata": {},
   "outputs": [],
   "source": [
    "arquivo_fonte = 'arquivos/dados.json'\n",
    "arquivo_destino = 'arquivos/dados.txt'"
   ]
  },
  {
   "cell_type": "code",
   "execution_count": 52,
   "id": "0def90c9-64b0-48bf-8f9a-ac4420d01609",
   "metadata": {},
   "outputs": [],
   "source": [
    "with open(arquivo_fonte, 'r') as arquivo_entrada:\n",
    "    text = arquivo_entrada.read()\n",
    "    with open(arquivo_destino, 'w') as arquivo_saida:\n",
    "        arquivo_saida.write(text)"
   ]
  },
  {
   "cell_type": "code",
   "execution_count": 54,
   "id": "d647ce82-9e91-4c99-aa1d-2173e3f868e8",
   "metadata": {},
   "outputs": [
    {
     "data": {
      "text/plain": [
       "106"
      ]
     },
     "execution_count": 54,
     "metadata": {},
     "output_type": "execute_result"
    }
   ],
   "source": [
    "open(arquivo_destino, 'w').write(open(arquivo_fonte, 'r').read())"
   ]
  },
  {
   "cell_type": "code",
   "execution_count": 55,
   "id": "aed234d0-89f6-4368-98ba-532ab211834a",
   "metadata": {},
   "outputs": [],
   "source": [
    "with open(\"arquivos/dados.txt\", 'r') as arquivo:\n",
    "    texto = arquivo.read()\n",
    "    dados = json.loads(texto)"
   ]
  },
  {
   "cell_type": "code",
   "execution_count": 3,
   "id": "170df425",
   "metadata": {},
   "outputs": [
    {
     "data": {
      "text/plain": [
       "'Dat'"
      ]
     },
     "execution_count": 3,
     "metadata": {},
     "output_type": "execute_result"
    }
   ],
   "source": [
    "s = 'Data S'\n",
    "s[:3]"
   ]
  }
 ],
 "metadata": {
  "kernelspec": {
   "display_name": "base",
   "language": "python",
   "name": "python3"
  },
  "language_info": {
   "codemirror_mode": {
    "name": "ipython",
    "version": 3
   },
   "file_extension": ".py",
   "mimetype": "text/x-python",
   "name": "python",
   "nbconvert_exporter": "python",
   "pygments_lexer": "ipython3",
   "version": "3.11.7"
  }
 },
 "nbformat": 4,
 "nbformat_minor": 5
}
