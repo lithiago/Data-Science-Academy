{
 "cells": [
  {
   "cell_type": "markdown",
   "id": "662a3852-d762-4365-a24a-95ea999b580e",
   "metadata": {},
   "source": [
    "### Expressões Regulares\n",
    "\n",
    "Expressões regulares são padrões usados para combinar ou encontrar ocorrências de sequências de caracteres em uma string. Em Python, expressõesn regulares são geralmente usads para manipular strings e realizar tarefas como validação de entrada de dados, extração de informações de stirngs e substituição de texto."
   ]
  },
  {
   "cell_type": "code",
   "execution_count": 1,
   "id": "c685133e-6b5f-4dfa-ada9-dce5546aec45",
   "metadata": {},
   "outputs": [],
   "source": [
    "import re"
   ]
  },
  {
   "cell_type": "code",
   "execution_count": 18,
   "id": "e1b83fd5-34a3-4def-9b6f-770ad1d756f1",
   "metadata": {},
   "outputs": [],
   "source": [
    "texto = \"Meu email é thiagoramon993@gmail.com e você pode me contatar em outro email thiagoramon399@gmail.com\""
   ]
  },
  {
   "cell_type": "code",
   "execution_count": 6,
   "id": "909f4818-ec7d-45b8-bdf9-5162b4dadb69",
   "metadata": {},
   "outputs": [
    {
     "data": {
      "text/plain": [
       "2"
      ]
     },
     "execution_count": 6,
     "metadata": {},
     "output_type": "execute_result"
    }
   ],
   "source": [
    "# Expressão regular para contar quantas vezes o caracter @ aparece no texto\n",
    "len(re.findall(\"@\", texto))"
   ]
  },
  {
   "cell_type": "code",
   "execution_count": 19,
   "id": "e15de526-fbbf-4b73-a82d-3bf9be59f650",
   "metadata": {},
   "outputs": [
    {
     "data": {
      "text/plain": [
       "['pode']"
      ]
     },
     "execution_count": 19,
     "metadata": {},
     "output_type": "execute_result"
    }
   ],
   "source": [
    "resultado = re.findall(r'você (\\w+)', texto)\n",
    "resultado"
   ]
  },
  {
   "cell_type": "code",
   "execution_count": 21,
   "id": "cf42d36e-0704-4d5b-83ad-9626bba3b122",
   "metadata": {},
   "outputs": [
    {
     "name": "stdout",
     "output_type": "stream",
     "text": [
      "A palavra após 'você' vem a palavra é: pode\n"
     ]
    }
   ],
   "source": [
    "print(f\"A palavra após 'você' vem a palavra é: {resultado[0]}\")"
   ]
  },
  {
   "cell_type": "markdown",
   "id": "4a3218aa-bdfd-49e9-a9a4-6765d229fd05",
   "metadata": {},
   "source": [
    "Nota: O r abtes da string que representa a expressão regular em Python é usado para indicar que a string é uma string literal raw. Isso significa que as barras invertidas () não são interpretadas como caracteres de escape, mas são incluídas como REGex"
   ]
  },
  {
   "cell_type": "code",
   "execution_count": 22,
   "id": "f9747cb0-e57f-4f2b-9ab6-4378a2034b87",
   "metadata": {},
   "outputs": [],
   "source": [
    "# Expressão regular para extrair endereços de e-mail de uma string\n",
    "emails = re.findall(r'\\b[A-Za-z0-9._%+-]+@[A-Za-z0-9.-]+\\.[A-Z|a-z]{2,}\\b', texto)"
   ]
  },
  {
   "cell_type": "code",
   "execution_count": 23,
   "id": "6801f3f7-5c1d-4347-b733-f4390f04e263",
   "metadata": {},
   "outputs": [
    {
     "name": "stdout",
     "output_type": "stream",
     "text": [
      "['thiagoramon993@gmail.com', 'thiagoramon399@gmail.com']\n"
     ]
    }
   ],
   "source": [
    "print(emails)"
   ]
  },
  {
   "cell_type": "code",
   "execution_count": 24,
   "id": "86d2837c-a2c3-4011-b7cf-1a819c716951",
   "metadata": {},
   "outputs": [],
   "source": [
    "text = \"O aluno estava incrivelemente perdido, mas encontrou a DSA e rapidamente começou a aprender.\""
   ]
  },
  {
   "cell_type": "code",
   "execution_count": 26,
   "id": "64a16eea-f61c-41c8-9c28-20101b277aa8",
   "metadata": {},
   "outputs": [
    {
     "name": "stdout",
     "output_type": "stream",
     "text": [
      "15 - 29: incrivelemente\n",
      "61 - 72: rapidamente\n"
     ]
    }
   ],
   "source": [
    "# Extraindo advérbios da frase\n",
    "for m in re.finditer(r'\\w+mente\\b', text):\n",
    "    print(f'{m.start()} - {m.end()}: {m.group(0)}')"
   ]
  },
  {
   "cell_type": "markdown",
   "id": "3841f0ae-be88-4e98-9456-ee4d20aa8113",
   "metadata": {},
   "source": [
    "### REGEX com ChatGPT\n",
    "Música: Dear Good\n",
    "a7x"
   ]
  },
  {
   "cell_type": "code",
   "execution_count": 32,
   "id": "b21a1690-98d9-452e-b675-5faf1a6d9e56",
   "metadata": {},
   "outputs": [],
   "source": [
    "musica = '''\n",
    "Construção\n",
    "Amou daquela vez como se fosse a última\n",
    "Beijou sua mulher como se fosse a última\n",
    "E cada filho seu como se fosse o único\n",
    "E atravessou a rua com seu passo tímido\n",
    "Subiu a construção como se fosse máquina\n",
    "Ergueu no patamar quatro paredes sólidas\n",
    "Tijolo com tijolo num desenho mágico\n",
    "Seus olhos embotados de cimento e lágrima\n",
    "Sentou pra descansar como se fosse sábado\n",
    "Comeu feijão com arroz como se fosse um príncipe\n",
    "Bebeu e soluçou como se fosse um náufrago\n",
    "Dançou e gargalhou como se ouvisse música\n",
    "E tropeçou no céu como se fosse um bêbado\n",
    "E flutuou no ar como se fosse um pássaro\n",
    "E se acabou no chão feito um pacote flácido\n",
    "Agonizou no meio do passeio público\n",
    "Morreu na contramão atrapalhando o tráfego\n",
    "Amou daquela vez como se fosse o último\n",
    "Beijou sua mulher como se fosse a única\n",
    "E cada filho seu como se fosse o pródigo\n",
    "E atravessou a rua com seu passo bêbado\n",
    "Subiu a construção como se fosse sólido\n",
    "Ergueu no patamar quatro paredes mágicas\n",
    "Tijolo com tijolo num desenho lógico\n",
    "Seus olhos embotados de cimento e tráfego\n",
    "Sentou pra descansar como se fosse um príncipe\n",
    "Comeu feijão com arroz como se fosse o máximo\n",
    "Bebeu e soluçou como se fosse máquina\n",
    "Dançou e gargalhou como se fosse o próximo\n",
    "E tropeçou no céu como se ouvisse música\n",
    "E flutuou no ar como se fosse sábado\n",
    "E se acabou no chão feito um pacote tímido\n",
    "Agonizou no meio do passeio náufrago\n",
    "Morreu na contramão atrapalhando o público\n",
    "Amou daquela vez como se fosse máquina\n",
    "Beijou sua mulher como se fosse lógico\n",
    "Ergueu no patamar quatro paredes flácidas\n",
    "Sentou pra descansar como se fosse um pássaro\n",
    "E flutuou no ar como se fosse um príncipe\n",
    "E se acabou no chão feito um pacote bêbado\n",
    "Morreu na contramão atrapalhando o sábado\n",
    "Por esse pão pra comer, por esse chão pra dormir\n",
    "A certidão pra nascer, a concessão pra sorrir\n",
    "Por me deixar respirar, por me deixar existir\n",
    "Deus lhe pague\n",
    "Pela cachaça de graça que a gente tem que engolir\n",
    "Pela fumaça desgraça que a gente tem que tossir\n",
    "Pelos andaimes pingentes que a gente tem que cair\n",
    "Deus lhe pague\n",
    "Pela mulher carpideira pra nos louvar e cuspir\n",
    "E pelas moscas bicheiras a nos beijar e cobrir\n",
    "E pela paz derradeira que enfim vai nos redimir\n",
    "Deus lhe pague\n",
    "'''\n"
   ]
  },
  {
   "cell_type": "code",
   "execution_count": null,
   "id": "5d433bdb-0b01-4d21-87fe-3ea635706a61",
   "metadata": {},
   "outputs": [],
   "source": [
    "# Criar uma REGEX para contar quantas vezes o caractere 'a' aparece em todo o texto da música.\n",
    "# Criar uma REGEX em Python para contar quantas vezes a palavra 'fosse' aparece na música\n",
    "# Criar uma REGEX que extrai qualquer palavra cujo antecessor seja a palavra 'fosse a' ou 'fosse o'\n",
    "# Criar uma REGEX que retorne as palavras com acento, mas somente os caracteres que vem até o acento"
   ]
  },
  {
   "cell_type": "code",
   "execution_count": 33,
   "id": "3289734d-c4c1-4ff2-8bd9-223427586858",
   "metadata": {},
   "outputs": [
    {
     "name": "stdout",
     "output_type": "stream",
     "text": [
      "Quantidade de 'a': 166\n"
     ]
    }
   ],
   "source": [
    "# Contar ocorrências da letra 'a'\n",
    "quantidade_a = len(re.findall(r'a', musica, re.IGNORECASE))\n",
    "print(\"Quantidade de 'a':\", quantidade_a)"
   ]
  },
  {
   "cell_type": "code",
   "execution_count": 34,
   "id": "966eb3f8-d5f8-4b65-bd54-15759117bc39",
   "metadata": {},
   "outputs": [
    {
     "name": "stdout",
     "output_type": "stream",
     "text": [
      "Quantidade de 'fosse': 22\n"
     ]
    }
   ],
   "source": [
    "quantidade_fosse = len(re.findall(r'\\bfosse\\b', musica, re.IGNORECASE))\n",
    "print(\"Quantidade de 'fosse':\", quantidade_fosse)\n"
   ]
  },
  {
   "cell_type": "code",
   "execution_count": 36,
   "id": "81b1d879-2efd-4cd6-836d-fce9da69b47f",
   "metadata": {},
   "outputs": [
    {
     "name": "stdout",
     "output_type": "stream",
     "text": [
      "Palavras após 'fosse', 'fosse a' ou 'fosse o': ['última', 'última', 'único', 'máquina', 'sábado', 'um', 'um', 'um', 'um', 'último', 'única', 'pródigo', 'sólido', 'um', 'máximo', 'máquina', 'próximo', 'sábado', 'máquina', 'lógico', 'um', 'um']\n"
     ]
    }
   ],
   "source": [
    "\n",
    "# Regex para capturar a palavra após \"fosse\", \"fosse a\" ou \"fosse o\"\n",
    "palavras_pos_fosse = re.findall(r'\\bfosse(?: [ao])? (\\w+)', musica, re.IGNORECASE)\n",
    "\n",
    "print(\"Palavras após 'fosse', 'fosse a' ou 'fosse o':\", palavras_pos_fosse)\n"
   ]
  },
  {
   "cell_type": "code",
   "execution_count": 37,
   "id": "d6c797f4-ec99-453d-a303-84aebf429335",
   "metadata": {},
   "outputs": [
    {
     "name": "stdout",
     "output_type": "stream",
     "text": [
      "Partes das palavras até o acento: ['Construçã', 'ú', 'ú', 'ú', 'tí', 'construçã', 'má', 'só', 'má', 'lá', 'sá', 'feijã', 'prí', 'ná', 'mú', 'cé', 'bê', 'pá', 'chã', 'flá', 'pú', 'contramã', 'trá', 'ú', 'ú', 'pró', 'bê', 'construçã', 'só', 'má', 'ló', 'trá', 'prí', 'feijã', 'má', 'má', 'pró', 'cé', 'mú', 'sá', 'chã', 'tí', 'ná', 'contramã', 'pú', 'má', 'ló', 'flá', 'pá', 'prí', 'chã', 'bê', 'contramã', 'sá', 'pã', 'chã', 'certidã', 'concessã']\n"
     ]
    }
   ],
   "source": [
    "palavras_ate_acento = re.findall(r'\\b[\\w]*[áéíóúãõâêôîûäëïöü]', musica)\n",
    "\n",
    "print(\"Partes das palavras até o acento:\", palavras_ate_acento)"
   ]
  }
 ],
 "metadata": {
  "kernelspec": {
   "display_name": "Python 3 (ipykernel)",
   "language": "python",
   "name": "python3"
  },
  "language_info": {
   "codemirror_mode": {
    "name": "ipython",
    "version": 3
   },
   "file_extension": ".py",
   "mimetype": "text/x-python",
   "name": "python",
   "nbconvert_exporter": "python",
   "pygments_lexer": "ipython3",
   "version": "3.11.7"
  }
 },
 "nbformat": 4,
 "nbformat_minor": 5
}
