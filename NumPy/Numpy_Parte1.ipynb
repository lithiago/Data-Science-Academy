{
 "cells": [
  {
   "cell_type": "markdown",
   "id": "ec435e1e-3c04-4613-91ae-0a2a1ef3a4dd",
   "metadata": {},
   "source": [
    "### NumPy"
   ]
  },
  {
   "cell_type": "code",
   "execution_count": 1,
   "id": "5e3690ea-8521-4fdd-9daf-f1ecc58bda03",
   "metadata": {},
   "outputs": [],
   "source": [
    "import numpy as np"
   ]
  },
  {
   "cell_type": "code",
   "execution_count": 3,
   "id": "a2433626-3d28-4ade-affa-9b84bb54f03c",
   "metadata": {},
   "outputs": [
    {
     "data": {
      "text/plain": [
       "'1.26.4'"
      ]
     },
     "execution_count": 3,
     "metadata": {},
     "output_type": "execute_result"
    }
   ],
   "source": [
    "np.__version__"
   ]
  },
  {
   "cell_type": "markdown",
   "id": "970a9ee2-8479-4b81-9844-de0e350ab9c1",
   "metadata": {},
   "source": [
    "### Criando Arrays NumPy"
   ]
  },
  {
   "cell_type": "code",
   "execution_count": 4,
   "id": "0182aab8-84b9-44da-9f37-b68011649c88",
   "metadata": {},
   "outputs": [],
   "source": [
    "arr1 = np.array([10,2,45,67,12,56])"
   ]
  },
  {
   "cell_type": "code",
   "execution_count": 7,
   "id": "1f6c0d74-e051-4342-970a-3111fdf390e6",
   "metadata": {},
   "outputs": [
    {
     "name": "stdout",
     "output_type": "stream",
     "text": [
      "[10  2 45 67 12 56]\n"
     ]
    }
   ],
   "source": [
    "print(arr1)"
   ]
  },
  {
   "cell_type": "code",
   "execution_count": 8,
   "id": "d28070f4-d09a-4597-85ad-de01ece36708",
   "metadata": {},
   "outputs": [
    {
     "name": "stdout",
     "output_type": "stream",
     "text": [
      "<class 'numpy.ndarray'>\n"
     ]
    }
   ],
   "source": [
    "print(type(arr1))"
   ]
  },
  {
   "cell_type": "code",
   "execution_count": 9,
   "id": "5c0010bc-9589-44e9-b992-fb5eaef9453b",
   "metadata": {},
   "outputs": [
    {
     "data": {
      "text/plain": [
       "(6,)"
      ]
     },
     "execution_count": 9,
     "metadata": {},
     "output_type": "execute_result"
    }
   ],
   "source": [
    "arr1.shape"
   ]
  },
  {
   "cell_type": "markdown",
   "id": "abc39200-3cad-41e9-a8a7-96bdfc6134bd",
   "metadata": {},
   "source": [
    "Um array NumPy é uma estrutura de dados multidimensional usada em computação científica e análise de dados. O NumPy fornece um objeto de matriz N-dimensional (ou ndarray), que é uma grade homogênea de elementos, geralmente números, que podem ser indexados por um conjunto de inteiros. \n",
    "\n",
    "Os array NumPy são mais eficientes do que as listas Python para armazenar e manipular grandes quantidades de dados, pois são implementados em linguagens C e fornecem várias otimizações de desempenho. Além disso, o NumPy permite a fácil leitura e escrita de arquivos de dados, integração com outras bibliotecas Python e suporte a operações em paralelo usando várias CPUs ou GPUs.\n",
    "\n",
    "![NumPy](imagens/image.png)"
   ]
  },
  {
   "cell_type": "markdown",
   "id": "45888c88-2ead-4af5-bc8b-1ea3f9a5d6a0",
   "metadata": {},
   "source": [
    "### Indexação em Arrays NumPy"
   ]
  },
  {
   "cell_type": "code",
   "execution_count": 10,
   "id": "a9f53ebc-eb4f-4016-8cce-d16a0d21a966",
   "metadata": {},
   "outputs": [
    {
     "data": {
      "text/plain": [
       "12"
      ]
     },
     "execution_count": 10,
     "metadata": {},
     "output_type": "execute_result"
    }
   ],
   "source": [
    "arr1[4]"
   ]
  },
  {
   "cell_type": "code",
   "execution_count": 11,
   "id": "6049bb05-16e3-42d9-95d8-0f50075e7684",
   "metadata": {},
   "outputs": [
    {
     "data": {
      "text/plain": [
       "array([ 2, 45, 67])"
      ]
     },
     "execution_count": 11,
     "metadata": {},
     "output_type": "execute_result"
    }
   ],
   "source": [
    "arr1[1:4]"
   ]
  },
  {
   "cell_type": "code",
   "execution_count": 12,
   "id": "72cb6dc8-b22f-41c0-b864-f8a4fb97e4e1",
   "metadata": {},
   "outputs": [],
   "source": [
    "# Uma lista de indices\n",
    "indices = [1,2,3,4]"
   ]
  },
  {
   "cell_type": "code",
   "execution_count": 13,
   "id": "93c49e36-8db1-48d0-ab53-6e9701e2ebc6",
   "metadata": {},
   "outputs": [
    {
     "data": {
      "text/plain": [
       "array([ 2, 45, 67, 12])"
      ]
     },
     "execution_count": 13,
     "metadata": {},
     "output_type": "execute_result"
    }
   ],
   "source": [
    "arr1[indices]"
   ]
  },
  {
   "cell_type": "code",
   "execution_count": 14,
   "id": "410704bd-51c0-4c29-acba-7fa0b189d828",
   "metadata": {},
   "outputs": [
    {
     "data": {
      "text/plain": [
       "array([ True,  True, False, False,  True,  True])"
      ]
     },
     "execution_count": 14,
     "metadata": {},
     "output_type": "execute_result"
    }
   ],
   "source": [
    "# Criar uma máscara booleana para os elmentos pares\n",
    "mask = (arr1 % 2 == 0)\n",
    "mask"
   ]
  },
  {
   "cell_type": "code",
   "execution_count": 15,
   "id": "0b42ba6c-456f-4949-9f81-489d7fb0eaed",
   "metadata": {},
   "outputs": [
    {
     "data": {
      "text/plain": [
       "array([10,  2, 12, 56])"
      ]
     },
     "execution_count": 15,
     "metadata": {},
     "output_type": "execute_result"
    }
   ],
   "source": [
    "arr1[mask]"
   ]
  },
  {
   "cell_type": "code",
   "execution_count": 19,
   "id": "e237bc45-6610-4b2b-a49f-a0ef07730a94",
   "metadata": {},
   "outputs": [
    {
     "name": "stdout",
     "output_type": "stream",
     "text": [
      "Operação não permitida\n"
     ]
    }
   ],
   "source": [
    "# Não é possível colocar outro tipo de elemento diferente do inicializado\n",
    "try:\n",
    "    arr1[0] = \"a\"\n",
    "except:\n",
    "    print(\"Operação não permitida\")"
   ]
  },
  {
   "cell_type": "markdown",
   "id": "a0848b14-9283-46f3-b18e-0cc9f63547c2",
   "metadata": {},
   "source": [
    "### Funções NumPy"
   ]
  },
  {
   "cell_type": "code",
   "execution_count": 20,
   "id": "de144f7f-796c-497f-98a8-30866c388ede",
   "metadata": {},
   "outputs": [],
   "source": [
    "# A função  araay () cria um arrayu NumPy\n",
    "arr2 = np.array([1,2,3,58,1685,12])"
   ]
  },
  {
   "cell_type": "code",
   "execution_count": 22,
   "id": "80c2dfb8-f235-4fcf-9dbd-c46311efdbf4",
   "metadata": {},
   "outputs": [
    {
     "data": {
      "text/plain": [
       "numpy.ndarray"
      ]
     },
     "execution_count": 22,
     "metadata": {},
     "output_type": "execute_result"
    }
   ],
   "source": [
    "# Tipo do objeto\n",
    "type(arr2)"
   ]
  },
  {
   "cell_type": "code",
   "execution_count": 26,
   "id": "def3deb5-07e1-4990-973a-fa1ae225e849",
   "metadata": {},
   "outputs": [
    {
     "name": "stdout",
     "output_type": "stream",
     "text": [
      "Tipo do objte<class 'numpy.ndarray'> \n",
      " Tipo dos dados int32\n"
     ]
    }
   ],
   "source": [
    "# Classe arange\n",
    "arr3 = np.arange(0,20,2)\n",
    "print(f\"Tipo do objte{type(arr3)} \\n Tipo dos dados {arr3.dtype}\")"
   ]
  },
  {
   "cell_type": "code",
   "execution_count": 27,
   "id": "63a76796-5035-4958-8b63-c17007b54c73",
   "metadata": {},
   "outputs": [],
   "source": [
    "# Criando um array preenchido com zeros\n",
    "arr4 = np.zeros(10)"
   ]
  },
  {
   "cell_type": "code",
   "execution_count": 28,
   "id": "f67839d9-00e9-40de-9ad1-73733b5d5c07",
   "metadata": {},
   "outputs": [
    {
     "data": {
      "text/plain": [
       "array([0., 0., 0., 0., 0., 0., 0., 0., 0., 0.])"
      ]
     },
     "execution_count": 28,
     "metadata": {},
     "output_type": "execute_result"
    }
   ],
   "source": [
    "arr4"
   ]
  },
  {
   "cell_type": "code",
   "execution_count": 30,
   "id": "fcae5f7e-340b-452f-b450-5e490a959a34",
   "metadata": {},
   "outputs": [],
   "source": [
    "# Criando uma matriz identidade\n",
    "arr5 = np.eye(5)"
   ]
  },
  {
   "cell_type": "code",
   "execution_count": 31,
   "id": "5263f221-ec0f-4827-b109-330794e8feba",
   "metadata": {},
   "outputs": [
    {
     "data": {
      "text/plain": [
       "array([[1., 0., 0., 0., 0.],\n",
       "       [0., 1., 0., 0., 0.],\n",
       "       [0., 0., 1., 0., 0.],\n",
       "       [0., 0., 0., 1., 0.],\n",
       "       [0., 0., 0., 0., 1.]])"
      ]
     },
     "execution_count": 31,
     "metadata": {},
     "output_type": "execute_result"
    }
   ],
   "source": [
    "arr5"
   ]
  },
  {
   "cell_type": "code",
   "execution_count": 32,
   "id": "8dfd8388-f525-477b-a00f-62df1e75d7de",
   "metadata": {},
   "outputs": [
    {
     "data": {
      "text/plain": [
       "array([[1, 0, 0, 0],\n",
       "       [0, 2, 0, 0],\n",
       "       [0, 0, 3, 0],\n",
       "       [0, 0, 0, 4]])"
      ]
     },
     "execution_count": 32,
     "metadata": {},
     "output_type": "execute_result"
    }
   ],
   "source": [
    "# Os valores passados como parâmetro, formam uma diagonal\n",
    "arr6 = np.diag(np.array([1,2,3,4]))\n",
    "arr6"
   ]
  },
  {
   "cell_type": "markdown",
   "id": "6565bb5e-beb0-4244-8929-9dd02985becf",
   "metadata": {},
   "source": [
    "#### Função linspace\n",
    "\n",
    "A função linspace() do NumPy é usada para criar uma sequência de números igualmente espaçados dentro de um intervalo especificado. Essa função é amplamente utilizada em programação científica e matemática para gerar arrays de números para diversos fins, como gráficos, cálculos e simulações.\n",
    "\n",
    "O método linspcae retorna um número de valores igualmente distribuídos no intervalo especificado."
   ]
  },
  {
   "cell_type": "code",
   "execution_count": 33,
   "id": "59ac252d-c436-45a2-bb9b-14a974225c90",
   "metadata": {},
   "outputs": [
    {
     "data": {
      "text/plain": [
       "array([ 0.        ,  0.20408163,  0.40816327,  0.6122449 ,  0.81632653,\n",
       "        1.02040816,  1.2244898 ,  1.42857143,  1.63265306,  1.83673469,\n",
       "        2.04081633,  2.24489796,  2.44897959,  2.65306122,  2.85714286,\n",
       "        3.06122449,  3.26530612,  3.46938776,  3.67346939,  3.87755102,\n",
       "        4.08163265,  4.28571429,  4.48979592,  4.69387755,  4.89795918,\n",
       "        5.10204082,  5.30612245,  5.51020408,  5.71428571,  5.91836735,\n",
       "        6.12244898,  6.32653061,  6.53061224,  6.73469388,  6.93877551,\n",
       "        7.14285714,  7.34693878,  7.55102041,  7.75510204,  7.95918367,\n",
       "        8.16326531,  8.36734694,  8.57142857,  8.7755102 ,  8.97959184,\n",
       "        9.18367347,  9.3877551 ,  9.59183673,  9.79591837, 10.        ])"
      ]
     },
     "execution_count": 33,
     "metadata": {},
     "output_type": "execute_result"
    }
   ],
   "source": [
    "np.linspace(0,10)"
   ]
  },
  {
   "cell_type": "markdown",
   "id": "0b992bbf-1cd4-42cf-a43b-bdd0f9038c39",
   "metadata": {},
   "source": [
    "#### Função logspace() \n",
    "Função logspace() do NumPy é usada para criar uma sequência de números igualmente espaçados em escala logarítmica dentro de um intervalo especificado. Essa função é amplamente utilizada em programação científica e matemática para gerar arrays de números para diversos fins, como gráficos, cálculos e simulações."
   ]
  },
  {
   "cell_type": "code",
   "execution_count": 35,
   "id": "3ee261f3-ec4d-4b7e-902f-dd27cd454310",
   "metadata": {},
   "outputs": [
    {
     "data": {
      "text/plain": [
       "array([1.00000000e+00, 3.59381366e+00, 1.29154967e+01, 4.64158883e+01,\n",
       "       1.66810054e+02, 5.99484250e+02, 2.15443469e+03, 7.74263683e+03,\n",
       "       2.78255940e+04, 1.00000000e+05])"
      ]
     },
     "execution_count": 35,
     "metadata": {},
     "output_type": "execute_result"
    }
   ],
   "source": [
    "np.logspace(0,5,10)"
   ]
  },
  {
   "cell_type": "markdown",
   "id": "1a627219-8c6d-4dc5-97f1-00efbb251ad6",
   "metadata": {},
   "source": [
    "### Manipulando Matrizes"
   ]
  },
  {
   "cell_type": "code",
   "execution_count": 36,
   "id": "a479b145-e914-4289-ae5e-07a90836b82f",
   "metadata": {},
   "outputs": [],
   "source": [
    "# Matriz 2x3 apenas com números 1\n",
    "arr10 = np.ones((2,3))"
   ]
  },
  {
   "cell_type": "code",
   "execution_count": 37,
   "id": "2db65558-9327-468f-9388-a86bca09b405",
   "metadata": {},
   "outputs": [
    {
     "data": {
      "text/plain": [
       "array([[1., 1., 1.],\n",
       "       [1., 1., 1.]])"
      ]
     },
     "execution_count": 37,
     "metadata": {},
     "output_type": "execute_result"
    }
   ],
   "source": [
    "arr10"
   ]
  },
  {
   "cell_type": "code",
   "execution_count": 46,
   "id": "df570d08-78fe-4997-9879-1ef4415a4ec5",
   "metadata": {},
   "outputs": [],
   "source": [
    "# Lista de lista\n",
    "lista = [[2,3,4],[1,6,0], [10,5,9]]"
   ]
  },
  {
   "cell_type": "code",
   "execution_count": 47,
   "id": "8cc333e3-6e7e-44c8-a8f2-2870f1c38c13",
   "metadata": {},
   "outputs": [
    {
     "data": {
      "text/plain": [
       "numpy.matrix"
      ]
     },
     "execution_count": 47,
     "metadata": {},
     "output_type": "execute_result"
    }
   ],
   "source": [
    "# Função matrix que a partir de uma lista de lista faz uma matriz numpy\n",
    "arr11 = np.matrix(lista)\n",
    "type(arr11)"
   ]
  },
  {
   "cell_type": "code",
   "execution_count": 48,
   "id": "94281d1e-7a62-4e29-8216-5f81a29d1add",
   "metadata": {},
   "outputs": [
    {
     "data": {
      "text/plain": [
       "(3, 3)"
      ]
     },
     "execution_count": 48,
     "metadata": {},
     "output_type": "execute_result"
    }
   ],
   "source": [
    "np.shape(arr11)"
   ]
  },
  {
   "cell_type": "code",
   "execution_count": 49,
   "id": "6e1f45e2-0549-4309-81a8-7ce58ff6308f",
   "metadata": {},
   "outputs": [
    {
     "name": "stdout",
     "output_type": "stream",
     "text": [
      "[[ 2  3  4]\n",
      " [ 1  6  0]\n",
      " [10  5  9]]\n"
     ]
    }
   ],
   "source": [
    "print(arr11)"
   ]
  },
  {
   "cell_type": "code",
   "execution_count": 50,
   "id": "dea668eb-8081-4145-94e9-254ab0be0dab",
   "metadata": {},
   "outputs": [],
   "source": [
    "x = np.array([1,2]) # NumPy decide o tipo0 dos dados\n",
    "y = np.array([1.0,2.0]) # NumPy decide o tipo0 dos dados\n",
    "z = np.array([1,2], dtype=np.float64) # Forçamos um tipo de dado"
   ]
  },
  {
   "cell_type": "code",
   "execution_count": 51,
   "id": "9375daa0-ccf5-4bbc-83bf-0c841b3bd06e",
   "metadata": {},
   "outputs": [
    {
     "name": "stdout",
     "output_type": "stream",
     "text": [
      "int32 float64 float64\n"
     ]
    }
   ],
   "source": [
    "print(x.dtype, y.dtype, z.dtype)"
   ]
  },
  {
   "cell_type": "markdown",
   "id": "1750353d-69bf-46d1-9897-e5635fbeab8c",
   "metadata": {},
   "source": [
    "### Manipulando Objetos de 3 e 4 Dimensões com NumPy"
   ]
  },
  {
   "cell_type": "code",
   "execution_count": 52,
   "id": "88925d81-f8d5-486f-b3fd-a50542ce916e",
   "metadata": {},
   "outputs": [],
   "source": [
    "# Cria um array NumPy de 3 dimensões\n",
    "\n",
    "arr_3D = np.array([\n",
    "    [\n",
    "        [1,2,3],\n",
    "        [4,5,6],\n",
    "        [7,8,9]\n",
    "    ],[\n",
    "        [10,11,12],\n",
    "        [13,14,15],\n",
    "        [16,17,18]\n",
    "    ]\n",
    "])"
   ]
  },
  {
   "cell_type": "code",
   "execution_count": 54,
   "id": "e42c277f-ac57-4acc-9576-914b2fb86229",
   "metadata": {},
   "outputs": [
    {
     "name": "stdout",
     "output_type": "stream",
     "text": [
      "[[[ 1  2  3]\n",
      "  [ 4  5  6]\n",
      "  [ 7  8  9]]\n",
      "\n",
      " [[10 11 12]\n",
      "  [13 14 15]\n",
      "  [16 17 18]]]\n"
     ]
    }
   ],
   "source": [
    "print(arr_3D)"
   ]
  },
  {
   "cell_type": "code",
   "execution_count": 55,
   "id": "7f704f90-7861-49bc-8184-e19d90df5037",
   "metadata": {},
   "outputs": [
    {
     "data": {
      "text/plain": [
       "(2, 3, 3)"
      ]
     },
     "execution_count": 55,
     "metadata": {},
     "output_type": "execute_result"
    }
   ],
   "source": [
    "arr_3D.shape # Saída esperada 2 camadas, 3 linhas, 3 colunas"
   ]
  },
  {
   "cell_type": "code",
   "execution_count": 64,
   "id": "2ad99a5e-9064-42e7-96d1-b52beafa54a8",
   "metadata": {},
   "outputs": [],
   "source": [
    "# Cria um array NumPy de 4 dimensões\n",
    "arr_4D = np.array([\n",
    "    [\n",
    "        [\n",
    "            [1,2,3,4,5],\n",
    "            [6,7,8,9,10],\n",
    "            [11,12,13,14,15]\n",
    "        ],\n",
    "        [\n",
    "            [16,17,18,19,20],\n",
    "            [21,22,23,24,25],\n",
    "            [26,27,29,29,30],\n",
    "        ]\n",
    "    \n",
    "    \n",
    "    \n",
    "    ],\n",
    "    [\n",
    "        [\n",
    "            [31,32,33,34,35],\n",
    "            [36,37,38,39,40],\n",
    "            [41,42,43,44,45]\n",
    "        ],\n",
    "        [\n",
    "            [46,47,48,49,50],\n",
    "            [51,52,53,54,55],\n",
    "            [56,57,58,59,60],\n",
    "        ]\n",
    "    ]\n",
    "\n",
    "])"
   ]
  },
  {
   "cell_type": "code",
   "execution_count": 65,
   "id": "144a9566-ec3d-47ab-87db-fcd8108f00dc",
   "metadata": {},
   "outputs": [
    {
     "name": "stdout",
     "output_type": "stream",
     "text": [
      "[[[[ 1  2  3  4  5]\n",
      "   [ 6  7  8  9 10]\n",
      "   [11 12 13 14 15]]\n",
      "\n",
      "  [[16 17 18 19 20]\n",
      "   [21 22 23 24 25]\n",
      "   [26 27 29 29 30]]]\n",
      "\n",
      "\n",
      " [[[31 32 33 34 35]\n",
      "   [36 37 38 39 40]\n",
      "   [41 42 43 44 45]]\n",
      "\n",
      "  [[46 47 48 49 50]\n",
      "   [51 52 53 54 55]\n",
      "   [56 57 58 59 60]]]]\n"
     ]
    }
   ],
   "source": [
    "print(arr_4D)"
   ]
  },
  {
   "cell_type": "code",
   "execution_count": 60,
   "id": "268c20bc-0a61-4828-bbd4-50c280ddf785",
   "metadata": {},
   "outputs": [
    {
     "data": {
      "text/plain": [
       "4"
      ]
     },
     "execution_count": 60,
     "metadata": {},
     "output_type": "execute_result"
    }
   ],
   "source": [
    "arr_4D.ndim"
   ]
  },
  {
   "cell_type": "code",
   "execution_count": 61,
   "id": "fdb6f94b-ae9b-492c-9e82-0c0f029e187f",
   "metadata": {},
   "outputs": [
    {
     "data": {
      "text/plain": [
       "(2, 2, 3, 5)"
      ]
     },
     "execution_count": 61,
     "metadata": {},
     "output_type": "execute_result"
    }
   ],
   "source": [
    "arr_4D.shape # Indice de Coleção das Camadas, Camdadas, Linhas e Colunas"
   ]
  },
  {
   "cell_type": "code",
   "execution_count": 63,
   "id": "30fda1ce-2e4c-4be7-bc59-39a221bb54d2",
   "metadata": {},
   "outputs": [
    {
     "data": {
      "text/plain": [
       "array([21, 22, 23, 24, 25])"
      ]
     },
     "execution_count": 63,
     "metadata": {},
     "output_type": "execute_result"
    }
   ],
   "source": [
    "arr_4D[0,1,1]"
   ]
  },
  {
   "cell_type": "code",
   "execution_count": 67,
   "id": "750e1619-19f9-4d8c-a6f8-4bf51df20c65",
   "metadata": {},
   "outputs": [
    {
     "data": {
      "text/plain": [
       "53"
      ]
     },
     "execution_count": 67,
     "metadata": {},
     "output_type": "execute_result"
    }
   ],
   "source": [
    "arr_4D[1,1,1,2]"
   ]
  },
  {
   "cell_type": "markdown",
   "id": "b8e5990b-965e-4476-bbe0-a711c837bba9",
   "metadata": {},
   "source": [
    "### Manipulando Arquivos com NumPy"
   ]
  },
  {
   "cell_type": "code",
   "execution_count": 1,
   "id": "b64af523-9633-47b1-83d7-8415412d2075",
   "metadata": {},
   "outputs": [],
   "source": [
    "import os\n",
    "filename = os.path.join('dataset.csv')"
   ]
  },
  {
   "cell_type": "code",
   "execution_count": 69,
   "id": "3c240985-00fa-4bc4-ae4c-7f540e46790e",
   "metadata": {},
   "outputs": [
    {
     "name": "stdout",
     "output_type": "stream",
     "text": [
      "sepal_length,sepal_width,petal_length,petal_width,species\n",
      "5.1,3.5,1.4,0.2,setosa\n",
      "4.9,3,1.4,0.2,setosa\n",
      "4.7,3.2,1.3,0.2,setosa\n",
      "4.6,3.1,1.5,0.2,setosa\n",
      "5,3.6,1.4,0.2,setosa\n",
      "5.4,3.9,1.7,0.4,setosa\n",
      "4.6,3.4,1.4,0.3,setosa\n",
      "5,3.4,1.5,0.2,setosa\n",
      "4.4,2.9,1.4,0.2,setosa\n",
      "4.9,3.1,1.5,0.1,setosa\n",
      "5.4,3.7,1.5,0.2,setosa\n",
      "4.8,3.4,1.6,0.2,setosa\n",
      "4.8,3,1.4,0.1,setosa\n",
      "4.3,3,1.1,0.1,setosa\n",
      "5.8,4,1.2,0.2,setosa\n",
      "5.7,4.4,1.5,0.4,setosa\n",
      "5.4,3.9,1.3,0.4,setosa\n",
      "5.1,3.5,1.4,0.3,setosa\n",
      "5.7,3.8,1.7,0.3,setosa\n",
      "5.1,3.8,1.5,0.3,setosa\n",
      "5.4,3.4,1.7,0.2,setosa\n",
      "5.1,3.7,1.5,0.4,setosa\n",
      "4.6,3.6,1,0.2,setosa\n",
      "5.1,3.3,1.7,0.5,setosa\n",
      "4.8,3.4,1.9,0.2,setosa\n",
      "5,3,1.6,0.2,setosa\n",
      "5,3.4,1.6,0.4,setosa\n",
      "5.2,3.5,1.5,0.2,setosa\n",
      "5.2,3.4,1.4,0.2,setosa\n",
      "4.7,3.2,1.6,0.2,setosa\n",
      "4.8,3.1,1.6,0.2,setosa\n",
      "5.4,3.4,1.5,0.4,setosa\n",
      "5.2,4.1,1.5,0.1,setosa\n",
      "5.5,4.2,1.4,0.2,setosa\n",
      "4.9,3.1,1.5,0.1,setosa\n",
      "5,3.2,1.2,0.2,setosa\n",
      "5.5,3.5,1.3,0.2,setosa\n",
      "4.9,3.1,1.5,0.1,setosa\n",
      "4.4,3,1.3,0.2,setosa\n",
      "5.1,3.4,1.5,0.2,setosa\n",
      "5,3.5,1.3,0.3,setosa\n",
      "4.5,2.3,1.3,0.3,setosa\n",
      "4.4,3.2,1.3,0.2,setosa\n",
      "5,3.5,1.6,0.6,setosa\n",
      "5.1,3.8,1.9,0.4,setosa\n",
      "4.8,3,1.4,0.3,setosa\n",
      "5.1,3.8,1.6,0.2,setosa\n",
      "4.6,3.2,1.4,0.2,setosa\n",
      "5.3,3.7,1.5,0.2,setosa\n",
      "5,3.3,1.4,0.2,setosa\n",
      "7,3.2,4.7,1.4,versicolor\n",
      "6.4,3.2,4.5,1.5,versicolor\n",
      "6.9,3.1,4.9,1.5,versicolor\n",
      "5.5,2.3,4,1.3,versicolor\n",
      "6.5,2.8,4.6,1.5,versicolor\n",
      "5.7,2.8,4.5,1.3,versicolor\n",
      "6.3,3.3,4.7,1.6,versicolor\n",
      "4.9,2.4,3.3,1,versicolor\n",
      "6.6,2.9,4.6,1.3,versicolor\n",
      "5.2,2.7,3.9,1.4,versicolor\n",
      "5,2,3.5,1,versicolor\n",
      "5.9,3,4.2,1.5,versicolor\n",
      "6,2.2,4,1,versicolor\n",
      "6.1,2.9,4.7,1.4,versicolor\n",
      "5.6,2.9,3.6,1.3,versicolor\n",
      "6.7,3.1,4.4,1.4,versicolor\n",
      "5.6,3,4.5,1.5,versicolor\n",
      "5.8,2.7,4.1,1,versicolor\n",
      "6.2,2.2,4.5,1.5,versicolor\n",
      "5.6,2.5,3.9,1.1,versicolor\n",
      "5.9,3.2,4.8,1.8,versicolor\n",
      "6.1,2.8,4,1.3,versicolor\n",
      "6.3,2.5,4.9,1.5,versicolor\n",
      "6.1,2.8,4.7,1.2,versicolor\n",
      "6.4,2.9,4.3,1.3,versicolor\n",
      "6.6,3,4.4,1.4,versicolor\n",
      "6.8,2.8,4.8,1.4,versicolor\n",
      "6.7,3,5,1.7,versicolor\n",
      "6,2.9,4.5,1.5,versicolor\n",
      "5.7,2.6,3.5,1,versicolor\n",
      "5.5,2.4,3.8,1.1,versicolor\n",
      "5.5,2.4,3.7,1,versicolor\n",
      "5.8,2.7,3.9,1.2,versicolor\n",
      "6,2.7,5.1,1.6,versicolor\n",
      "5.4,3,4.5,1.5,versicolor\n",
      "6,3.4,4.5,1.6,versicolor\n",
      "6.7,3.1,4.7,1.5,versicolor\n",
      "6.3,2.3,4.4,1.3,versicolor\n",
      "5.6,3,4.1,1.3,versicolor\n",
      "5.5,2.5,4,1.3,versicolor\n",
      "5.5,2.6,4.4,1.2,versicolor\n",
      "6.1,3,4.6,1.4,versicolor\n",
      "5.8,2.6,4,1.2,versicolor\n",
      "5,2.3,3.3,1,versicolor\n",
      "5.6,2.7,4.2,1.3,versicolor\n",
      "5.7,3,4.2,1.2,versicolor\n",
      "5.7,2.9,4.2,1.3,versicolor\n",
      "6.2,2.9,4.3,1.3,versicolor\n",
      "5.1,2.5,3,1.1,versicolor\n",
      "5.7,2.8,4.1,1.3,versicolor\n",
      "6.3,3.3,6,2.5,virginica\n",
      "5.8,2.7,5.1,1.9,virginica\n",
      "7.1,3,5.9,2.1,virginica\n",
      "6.3,2.9,5.6,1.8,virginica\n",
      "6.5,3,5.8,2.2,virginica\n",
      "7.6,3,6.6,2.1,virginica\n",
      "4.9,2.5,4.5,1.7,virginica\n",
      "7.3,2.9,6.3,1.8,virginica\n",
      "6.7,2.5,5.8,1.8,virginica\n",
      "7.2,3.6,6.1,2.5,virginica\n",
      "6.5,3.2,5.1,2,virginica\n",
      "6.4,2.7,5.3,1.9,virginica\n",
      "6.8,3,5.5,2.1,virginica\n",
      "5.7,2.5,5,2,virginica\n",
      "5.8,2.8,5.1,2.4,virginica\n",
      "6.4,3.2,5.3,2.3,virginica\n",
      "6.5,3,5.5,1.8,virginica\n",
      "7.7,3.8,6.7,2.2,virginica\n",
      "7.7,2.6,6.9,2.3,virginica\n",
      "6,2.2,5,1.5,virginica\n",
      "6.9,3.2,5.7,2.3,virginica\n",
      "5.6,2.8,4.9,2,virginica\n",
      "7.7,2.8,6.7,2,virginica\n",
      "6.3,2.7,4.9,1.8,virginica\n",
      "6.7,3.3,5.7,2.1,virginica\n",
      "7.2,3.2,6,1.8,virginica\n",
      "6.2,2.8,4.8,1.8,virginica\n",
      "6.1,3,4.9,1.8,virginica\n",
      "6.4,2.8,5.6,2.1,virginica\n",
      "7.2,3,5.8,1.6,virginica\n",
      "7.4,2.8,6.1,1.9,virginica\n",
      "7.9,3.8,6.4,2,virginica\n",
      "6.4,2.8,5.6,2.2,virginica\n",
      "6.3,2.8,5.1,1.5,virginica\n",
      "6.1,2.6,5.6,1.4,virginica\n",
      "7.7,3,6.1,2.3,virginica\n",
      "6.3,3.4,5.6,2.4,virginica\n",
      "6.4,3.1,5.5,1.8,virginica\n",
      "6,3,4.8,1.8,virginica\n",
      "6.9,3.1,5.4,2.1,virginica\n",
      "6.7,3.1,5.6,2.4,virginica\n",
      "6.9,3.1,5.1,2.3,virginica\n",
      "5.8,2.7,5.1,1.9,virginica\n",
      "6.8,3.2,5.9,2.3,virginica\n",
      "6.7,3.3,5.7,2.5,virginica\n",
      "6.7,3,5.2,2.3,virginica\n",
      "6.3,2.5,5,1.9,virginica\n",
      "6.5,3,5.2,2,virginica\n",
      "6.2,3.4,5.4,2.3,virginica\n",
      "5.9,3,5.1,1.8,virginica\n"
     ]
    }
   ],
   "source": [
    "!more dataset.csv"
   ]
  },
  {
   "cell_type": "code",
   "execution_count": null,
   "id": "04db0e79-161a-42b9-9e09-75cb586ce12b",
   "metadata": {},
   "outputs": [],
   "source": [
    "# Carregando um dataset para dentro de um array\n",
    "# O dataset possui tipos de dados variados e como é de conhecimento um array NumPy é inflexivel para tipagem dinamica por isso teremos que criar dois arrays\n",
    "arr13 = np.loadtxt(filename, delimiter= ',', usecols=(0,1,2,3), skiprows=1)"
   ]
  },
  {
   "cell_type": "code",
   "execution_count": 77,
   "id": "9536c43f-a5b9-42c0-9889-e87b34517289",
   "metadata": {},
   "outputs": [
    {
     "name": "stdout",
     "output_type": "stream",
     "text": [
      "[[5.1 3.5 1.4 0.2]\n",
      " [4.9 3.  1.4 0.2]\n",
      " [4.7 3.2 1.3 0.2]\n",
      " [4.6 3.1 1.5 0.2]\n",
      " [5.  3.6 1.4 0.2]\n",
      " [5.4 3.9 1.7 0.4]\n",
      " [4.6 3.4 1.4 0.3]\n",
      " [5.  3.4 1.5 0.2]\n",
      " [4.4 2.9 1.4 0.2]\n",
      " [4.9 3.1 1.5 0.1]\n",
      " [5.4 3.7 1.5 0.2]\n",
      " [4.8 3.4 1.6 0.2]\n",
      " [4.8 3.  1.4 0.1]\n",
      " [4.3 3.  1.1 0.1]\n",
      " [5.8 4.  1.2 0.2]\n",
      " [5.7 4.4 1.5 0.4]\n",
      " [5.4 3.9 1.3 0.4]\n",
      " [5.1 3.5 1.4 0.3]\n",
      " [5.7 3.8 1.7 0.3]\n",
      " [5.1 3.8 1.5 0.3]\n",
      " [5.4 3.4 1.7 0.2]\n",
      " [5.1 3.7 1.5 0.4]\n",
      " [4.6 3.6 1.  0.2]\n",
      " [5.1 3.3 1.7 0.5]\n",
      " [4.8 3.4 1.9 0.2]\n",
      " [5.  3.  1.6 0.2]\n",
      " [5.  3.4 1.6 0.4]\n",
      " [5.2 3.5 1.5 0.2]\n",
      " [5.2 3.4 1.4 0.2]\n",
      " [4.7 3.2 1.6 0.2]\n",
      " [4.8 3.1 1.6 0.2]\n",
      " [5.4 3.4 1.5 0.4]\n",
      " [5.2 4.1 1.5 0.1]\n",
      " [5.5 4.2 1.4 0.2]\n",
      " [4.9 3.1 1.5 0.1]\n",
      " [5.  3.2 1.2 0.2]\n",
      " [5.5 3.5 1.3 0.2]\n",
      " [4.9 3.1 1.5 0.1]\n",
      " [4.4 3.  1.3 0.2]\n",
      " [5.1 3.4 1.5 0.2]\n",
      " [5.  3.5 1.3 0.3]\n",
      " [4.5 2.3 1.3 0.3]\n",
      " [4.4 3.2 1.3 0.2]\n",
      " [5.  3.5 1.6 0.6]\n",
      " [5.1 3.8 1.9 0.4]\n",
      " [4.8 3.  1.4 0.3]\n",
      " [5.1 3.8 1.6 0.2]\n",
      " [4.6 3.2 1.4 0.2]\n",
      " [5.3 3.7 1.5 0.2]\n",
      " [5.  3.3 1.4 0.2]\n",
      " [7.  3.2 4.7 1.4]\n",
      " [6.4 3.2 4.5 1.5]\n",
      " [6.9 3.1 4.9 1.5]\n",
      " [5.5 2.3 4.  1.3]\n",
      " [6.5 2.8 4.6 1.5]\n",
      " [5.7 2.8 4.5 1.3]\n",
      " [6.3 3.3 4.7 1.6]\n",
      " [4.9 2.4 3.3 1. ]\n",
      " [6.6 2.9 4.6 1.3]\n",
      " [5.2 2.7 3.9 1.4]\n",
      " [5.  2.  3.5 1. ]\n",
      " [5.9 3.  4.2 1.5]\n",
      " [6.  2.2 4.  1. ]\n",
      " [6.1 2.9 4.7 1.4]\n",
      " [5.6 2.9 3.6 1.3]\n",
      " [6.7 3.1 4.4 1.4]\n",
      " [5.6 3.  4.5 1.5]\n",
      " [5.8 2.7 4.1 1. ]\n",
      " [6.2 2.2 4.5 1.5]\n",
      " [5.6 2.5 3.9 1.1]\n",
      " [5.9 3.2 4.8 1.8]\n",
      " [6.1 2.8 4.  1.3]\n",
      " [6.3 2.5 4.9 1.5]\n",
      " [6.1 2.8 4.7 1.2]\n",
      " [6.4 2.9 4.3 1.3]\n",
      " [6.6 3.  4.4 1.4]\n",
      " [6.8 2.8 4.8 1.4]\n",
      " [6.7 3.  5.  1.7]\n",
      " [6.  2.9 4.5 1.5]\n",
      " [5.7 2.6 3.5 1. ]\n",
      " [5.5 2.4 3.8 1.1]\n",
      " [5.5 2.4 3.7 1. ]\n",
      " [5.8 2.7 3.9 1.2]\n",
      " [6.  2.7 5.1 1.6]\n",
      " [5.4 3.  4.5 1.5]\n",
      " [6.  3.4 4.5 1.6]\n",
      " [6.7 3.1 4.7 1.5]\n",
      " [6.3 2.3 4.4 1.3]\n",
      " [5.6 3.  4.1 1.3]\n",
      " [5.5 2.5 4.  1.3]\n",
      " [5.5 2.6 4.4 1.2]\n",
      " [6.1 3.  4.6 1.4]\n",
      " [5.8 2.6 4.  1.2]\n",
      " [5.  2.3 3.3 1. ]\n",
      " [5.6 2.7 4.2 1.3]\n",
      " [5.7 3.  4.2 1.2]\n",
      " [5.7 2.9 4.2 1.3]\n",
      " [6.2 2.9 4.3 1.3]\n",
      " [5.1 2.5 3.  1.1]\n",
      " [5.7 2.8 4.1 1.3]\n",
      " [6.3 3.3 6.  2.5]\n",
      " [5.8 2.7 5.1 1.9]\n",
      " [7.1 3.  5.9 2.1]\n",
      " [6.3 2.9 5.6 1.8]\n",
      " [6.5 3.  5.8 2.2]\n",
      " [7.6 3.  6.6 2.1]\n",
      " [4.9 2.5 4.5 1.7]\n",
      " [7.3 2.9 6.3 1.8]\n",
      " [6.7 2.5 5.8 1.8]\n",
      " [7.2 3.6 6.1 2.5]\n",
      " [6.5 3.2 5.1 2. ]\n",
      " [6.4 2.7 5.3 1.9]\n",
      " [6.8 3.  5.5 2.1]\n",
      " [5.7 2.5 5.  2. ]\n",
      " [5.8 2.8 5.1 2.4]\n",
      " [6.4 3.2 5.3 2.3]\n",
      " [6.5 3.  5.5 1.8]\n",
      " [7.7 3.8 6.7 2.2]\n",
      " [7.7 2.6 6.9 2.3]\n",
      " [6.  2.2 5.  1.5]\n",
      " [6.9 3.2 5.7 2.3]\n",
      " [5.6 2.8 4.9 2. ]\n",
      " [7.7 2.8 6.7 2. ]\n",
      " [6.3 2.7 4.9 1.8]\n",
      " [6.7 3.3 5.7 2.1]\n",
      " [7.2 3.2 6.  1.8]\n",
      " [6.2 2.8 4.8 1.8]\n",
      " [6.1 3.  4.9 1.8]\n",
      " [6.4 2.8 5.6 2.1]\n",
      " [7.2 3.  5.8 1.6]\n",
      " [7.4 2.8 6.1 1.9]\n",
      " [7.9 3.8 6.4 2. ]\n",
      " [6.4 2.8 5.6 2.2]\n",
      " [6.3 2.8 5.1 1.5]\n",
      " [6.1 2.6 5.6 1.4]\n",
      " [7.7 3.  6.1 2.3]\n",
      " [6.3 3.4 5.6 2.4]\n",
      " [6.4 3.1 5.5 1.8]\n",
      " [6.  3.  4.8 1.8]\n",
      " [6.9 3.1 5.4 2.1]\n",
      " [6.7 3.1 5.6 2.4]\n",
      " [6.9 3.1 5.1 2.3]\n",
      " [5.8 2.7 5.1 1.9]\n",
      " [6.8 3.2 5.9 2.3]\n",
      " [6.7 3.3 5.7 2.5]\n",
      " [6.7 3.  5.2 2.3]\n",
      " [6.3 2.5 5.  1.9]\n",
      " [6.5 3.  5.2 2. ]\n",
      " [6.2 3.4 5.4 2.3]\n",
      " [5.9 3.  5.1 1.8]]\n"
     ]
    }
   ],
   "source": [
    "print(arr13)"
   ]
  },
  {
   "cell_type": "code",
   "execution_count": 78,
   "id": "ad83ce8f-c313-484e-b21b-7c05b9e43aee",
   "metadata": {},
   "outputs": [
    {
     "data": {
      "text/plain": [
       "numpy.ndarray"
      ]
     },
     "execution_count": 78,
     "metadata": {},
     "output_type": "execute_result"
    }
   ],
   "source": [
    "type(arr13)"
   ]
  },
  {
   "cell_type": "code",
   "execution_count": 81,
   "id": "aceb7426-a971-4b83-a4a1-e4186710ae19",
   "metadata": {},
   "outputs": [],
   "source": [
    "# Carregando apenas duas variáveis (colunas) do arquivo\n",
    "var1, var2 = np.loadtxt(filename, delimiter=',', usecols=(0,1), skiprows=1, unpack=True)"
   ]
  },
  {
   "cell_type": "code",
   "execution_count": 82,
   "id": "d81e92c6-8cb3-4b75-bbd1-c5c6b60b575c",
   "metadata": {},
   "outputs": [
    {
     "data": {
      "image/png": "[encoded data removed]",
      "text/plain": [
       "<Figure size 640x480 with 1 Axes>"
      ]
     },
     "metadata": {},
     "output_type": "display_data"
    }
   ],
   "source": [
    "# Gerando um plot a partir d eum arquivo usando o NumPy\n",
    "import matplotlib.pyplot as plt\n",
    "plt.plot(var1, var2, 'o', markersize = 6, color='blue')\n",
    "plt.show()"
   ]
  },
  {
   "cell_type": "markdown",
   "id": "89cb5b72-c282-4577-afd5-9996fffbaed1",
   "metadata": {},
   "source": [
    "### Análise Estatística com NumPyh"
   ]
  },
  {
   "cell_type": "code",
   "execution_count": 85,
   "id": "b4da06d6-9944-4b98-82a8-aff0dc2e15e5",
   "metadata": {},
   "outputs": [],
   "source": [
    "arr14 = np.array([12,24,63,54,90])"
   ]
  },
  {
   "cell_type": "markdown",
   "id": "2bd768bb-944f-4f5e-9da5-080363808444",
   "metadata": {},
   "source": [
    "Em estatística, a média é uma medida de tendência central que representa o valor central de um conjunto de dados. É calculad somando-se todos os valores do conjunto de dados e dividindo-se pelo número de observações"
   ]
  },
  {
   "cell_type": "code",
   "execution_count": 86,
   "id": "5eae63a1-5c1d-44df-96a7-36077101b6f4",
   "metadata": {},
   "outputs": [
    {
     "data": {
      "text/plain": [
       "48.6"
      ]
     },
     "execution_count": 86,
     "metadata": {},
     "output_type": "execute_result"
    }
   ],
   "source": [
    "# Média\n",
    "np.mean(arr14)"
   ]
  },
  {
   "cell_type": "markdown",
   "id": "0a6344c0-5ab3-453b-a3bd-e51eedc25af7",
   "metadata": {},
   "source": [
    "O desvio padrão é uma medida estatística de dispersão que indica o quanto os valores de um conjunto de dados se afastam da média. Ele é calculado como a raiz quadrada da variância, que é a média dos quadrados das diferenças entre cada valor e a média.\n",
    "\n",
    "O desvio padrão é uma medida útil porque permite avaliar a variabilidade dos dados em torno da média. Se os valores estiverem próximos da média, o desvio padrão será baixo, indicando que os dados têm pouca variabilidade. Por outro lado, se os valores estiverem muito distantes da média, o desvio padrão será alto, indicandop que os dados têm alta variabilidade.\n",
    "\n",
    "O desvio padrão é amplamente utilizado em Análise e Ciência de Dados, para avaliar a consistência dos dados e comparar conjuntos de dados diferentes. É importante notar que o desvio padrão pode ser influenciado por valores extremos (outliers) e pode ser afetado por diferentes distribuições de dados."
   ]
  },
  {
   "cell_type": "code",
   "execution_count": 87,
   "id": "22f7a8b8-6317-4872-9fdf-3bb7c4a994b8",
   "metadata": {},
   "outputs": [
    {
     "data": {
      "text/plain": [
       "27.911288039071216"
      ]
     },
     "execution_count": 87,
     "metadata": {},
     "output_type": "execute_result"
    }
   ],
   "source": [
    "# Desvio padrão (Standard Deviation)\n",
    "np.std(arr14)"
   ]
  },
  {
   "cell_type": "markdown",
   "id": "8b705369-800d-4584-9a3b-809c3819ead2",
   "metadata": {},
   "source": [
    "A variância é uma medida estatística que quantifica a dispersão dos valores em um conjunto de dados em relação à média.Ela é calculada como a média dos quadrados das diferenças entre cada valor e a média.\n",
    "\n",
    "A fórmula para o cálculo de variância é:\n",
    "\n",
    "variancia = 1/n *Σ (xi - x̅)^2\n",
    "\n",
    "Onde:\n",
    "- n é o número de observações\n",
    "- Σ é o somatório\n",
    "- xi é o i-ésimo valor no conjunto de dados\n",
    "- x̅ é a média dos valores\n",
    "\n",
    "- A variância é uma medida útil para avaliar a variabilidade dos dados em torno da média. Se a variância for baixa, isso indica que os valores estão próximos da média e têm pouca variabilidade. Por outro lado, se a variância for alta, isso indica que os valores estãop distantes da média e têm alta variabilidade."
   ]
  },
  {
   "cell_type": "code",
   "execution_count": 88,
   "id": "7a3e2727-a665-43d4-8171-3868827aa705",
   "metadata": {},
   "outputs": [
    {
     "data": {
      "text/plain": [
       "779.04"
      ]
     },
     "execution_count": 88,
     "metadata": {},
     "output_type": "execute_result"
    }
   ],
   "source": [
    "np.var(arr14)"
   ]
  },
  {
   "cell_type": "markdown",
   "id": "33bb7e18-d848-40db-a5bd-7ed97ddc6637",
   "metadata": {},
   "source": [
    "### Quando usar a Variância ou o Desvio Padrão\n",
    "\n",
    "Em Data Science e Data Analytics, tanto a variância quanto o desvio padrão são medidas de dispersão que ajudam a entender a distribuição dos dados. A escolhe entre eles depende do contexto e da interpretabilidade desejada\n",
    "\n",
    "#### Quando usar a variância?\n",
    "- Comparação de Variabilidade: Se você quer comparar a dispersão de diferentes conjuntos de dados, especialmente quando as unidades de medida não são um problema\n",
    "- Modelagem estatística e aprendizado de máquina: Algoritmos como PCA (Análise de Componentes Principais) usam variância para encontrar direções de maior variabilidade nos dados.\n",
    "- Cálculo de métricas intermediárias: A variância aparece naturalmente em muitos cálculos estatísticos, como na fórmula do erro quadrático média (MSE) em regressão.\n",
    "\n",
    "#### Quando usar o Desvio Padrão?\n",
    "- Interpretação Direta: Como o desvio padrão está na mesma unidade dos dados originais, é mais fácil de entender e comunicar.\n",
    "- Identificação de Outliers: Muitas técnicas definem outliers como pontos que estão a mais de 2 ou 3 desvios padrão da média\n",
    "- Medidas de Confiabiliade e Risco: Na análise financeira e em experimentos científicos, o desvio padrão ajuda a quantificar a incerteza e a variação.\n",
    "\n",
    "#### Exemplo prático:\n",
    "Se você está analisando salários de funcionários em uma empresa:\n",
    "- A variância diria quanto os salários variam em relação à média, mas o valor estarie em \"reais ao quadrado\".\n",
    "- O desvio padrão diria algo mais prático, como \"o salário típico varia em torno de R$2.000 para mais ou para menos\"\n",
    "\n",
    "Em geral, o desvio padrão é mais comumente usado do que a variância, principalmente porque é mais fácil de interpretar. No entanto, a escolha entre o uso da variância ou desvio do padrão depende do contexto e do objetivo da análise. Em alguns casos, a variância pode ser uma medida mais apropria, como quando se pretende calcular outras estatísticas, como covariância ou o coeficiente de correlação. Em outros casos, o desvio padrão pode ser uma medida mais apropriada, como quando se pretende avaliar a consistência dos dados em relação à média e comparar diferntes conjuntos de dados"
   ]
  },
  {
   "cell_type": "markdown",
   "id": "01fda2d3-8369-4d16-9a6e-a0d0320e4b54",
   "metadata": {},
   "source": [
    "### Operações Matemáticas com Arrays NumPy"
   ]
  },
  {
   "cell_type": "code",
   "execution_count": 95,
   "id": "d8c96bd3-ae5f-404c-8b1f-062c94d3992f",
   "metadata": {},
   "outputs": [],
   "source": [
    "arr15 = np.arange(1,15)"
   ]
  },
  {
   "cell_type": "code",
   "execution_count": 96,
   "id": "033aa652-2914-4e75-a9bd-fa76c2fe2b77",
   "metadata": {},
   "outputs": [
    {
     "data": {
      "text/plain": [
       "105"
      ]
     },
     "execution_count": 96,
     "metadata": {},
     "output_type": "execute_result"
    }
   ],
   "source": [
    "# Soma dos elementos do Array\n",
    "np.sum(arr15)"
   ]
  },
  {
   "cell_type": "code",
   "execution_count": 97,
   "id": "357a4b73-c1b1-4827-b92c-ca44acd9a41a",
   "metadata": {},
   "outputs": [
    {
     "data": {
      "text/plain": [
       "array([  1,   3,   6,  10,  15,  21,  28,  36,  45,  55,  66,  78,  91,\n",
       "       105])"
      ]
     },
     "execution_count": 97,
     "metadata": {},
     "output_type": "execute_result"
    }
   ],
   "source": [
    "# Soma acumulada dos elementos\n",
    "np.cumsum(arr15)"
   ]
  },
  {
   "cell_type": "code",
   "execution_count": 99,
   "id": "1ac99d08-d85f-420f-a3e3-83b52fe9cf7a",
   "metadata": {},
   "outputs": [
    {
     "data": {
      "text/plain": [
       "1278945280"
      ]
     },
     "execution_count": 99,
     "metadata": {},
     "output_type": "execute_result"
    }
   ],
   "source": [
    "np.prod(arr15)"
   ]
  },
  {
   "cell_type": "code",
   "execution_count": 100,
   "id": "ad90f42d-6e65-4d42-a6b2-b2ba8e617403",
   "metadata": {},
   "outputs": [],
   "source": [
    "arr16 = np.array([3,2,1])\n",
    "arr17 = np.array([1,2,3])"
   ]
  },
  {
   "cell_type": "code",
   "execution_count": 38,
   "id": "2fcd2295",
   "metadata": {},
   "outputs": [
    {
     "data": {
      "text/plain": [
       "True"
      ]
     },
     "execution_count": 38,
     "metadata": {},
     "output_type": "execute_result"
    }
   ],
   "source": [
    "arr1031 = np.zeros((2,2))\n",
    "\n",
    "arr1031[0][1]= 2\n",
    "np.all(np.isin([0, 2], arr1031))\n"
   ]
  },
  {
   "cell_type": "code",
   "execution_count": 102,
   "id": "176e3a96-a0cd-4b15-917a-3a2e72831ce2",
   "metadata": {},
   "outputs": [
    {
     "name": "stdout",
     "output_type": "stream",
     "text": [
      "[4 4 4]\n"
     ]
    }
   ],
   "source": [
    "arr18 = np.add(arr16, arr17)\n",
    "print(arr18)"
   ]
  },
  {
   "cell_type": "markdown",
   "id": "f33d3b15-1b9a-4f2b-aa6c-7a8e5339b2a7",
   "metadata": {},
   "source": [
    "Para multiplicar duas martizes NumPy, podemos usar a função dot() ou o operador @. Ambos os métodos executam a multiplicação matricial. É importante lembrar que, para que a multiplicaç]ão possa ser executada, o número de colunas da primeira maatriz deve ser igual ao número de linha da segunda matriz.\n",
    "\n",
    "Há várias formas de multiplicar elementos de matrizes NumPy. A função dot() é um método bastante utilizado"
   ]
  },
  {
   "cell_type": "code",
   "execution_count": 107,
   "id": "5c28d519-9b37-43a4-bbb9-9fdc28207eb2",
   "metadata": {},
   "outputs": [
    {
     "name": "stdout",
     "output_type": "stream",
     "text": [
      "[[ 9 10]\n",
      " [23 22]]\n"
     ]
    }
   ],
   "source": [
    "# Multiplicar duas matrizes\n",
    "arr19 = np.array([[3,2],[5,6]])\n",
    "arr20 = np.array([[1,2],[3,2]])\n",
    "arr21 = np.dot(arr19, arr20)\n",
    "print(arr21)"
   ]
  },
  {
   "cell_type": "code",
   "execution_count": 109,
   "id": "f6d1d4f3-e69e-4456-98f1-db49c3f80d33",
   "metadata": {},
   "outputs": [
    {
     "name": "stdout",
     "output_type": "stream",
     "text": [
      "[[ 9 10]\n",
      " [23 22]]\n"
     ]
    }
   ],
   "source": [
    "arr21 = arr19 @ arr20\n",
    "print(arr21)"
   ]
  },
  {
   "cell_type": "markdown",
   "id": "c5b2b7d6-739b-4e34-bf7d-801551d1093d",
   "metadata": {},
   "source": [
    "### Slicing (Fatiamento) de arrays NumPy"
   ]
  },
  {
   "cell_type": "code",
   "execution_count": 110,
   "id": "b3e4e085-8e97-4670-b759-1fe25c5e827e",
   "metadata": {},
   "outputs": [
    {
     "name": "stdout",
     "output_type": "stream",
     "text": [
      "[[0 0 0]\n",
      " [0 1 0]\n",
      " [0 0 2]]\n"
     ]
    }
   ],
   "source": [
    "arr22 = np.diag(np.arange(3))\n",
    "print(arr22)"
   ]
  },
  {
   "cell_type": "code",
   "execution_count": 113,
   "id": "82725104-c8e6-44df-8931-8f51e9a69b84",
   "metadata": {},
   "outputs": [
    {
     "name": "stdout",
     "output_type": "stream",
     "text": [
      "[0 1 2 3 4 5 6 7 8 9]\n"
     ]
    }
   ],
   "source": [
    "arr23 = np.arange(10)\n",
    "print(arr23)"
   ]
  },
  {
   "cell_type": "code",
   "execution_count": 112,
   "id": "b6090c89-71c6-4033-b24a-4d0d402df4a4",
   "metadata": {},
   "outputs": [
    {
     "data": {
      "text/plain": [
       "array([2, 5, 8])"
      ]
     },
     "execution_count": 112,
     "metadata": {},
     "output_type": "execute_result"
    }
   ],
   "source": [
    "arr23[2:9:3]"
   ]
  },
  {
   "cell_type": "code",
   "execution_count": 115,
   "id": "259c1399-27d2-4d8b-a46e-e38498629e9f",
   "metadata": {},
   "outputs": [],
   "source": [
    "a = np.array([1,2,3,4])\n",
    "b = np.array([1,1,2,4])"
   ]
  },
  {
   "cell_type": "code",
   "execution_count": 116,
   "id": "e28ca68c-3a2f-4ce6-8630-e3399c2fa108",
   "metadata": {},
   "outputs": [
    {
     "data": {
      "text/plain": [
       "array([ True, False, False,  True])"
      ]
     },
     "execution_count": 116,
     "metadata": {},
     "output_type": "execute_result"
    }
   ],
   "source": [
    "a == b"
   ]
  },
  {
   "cell_type": "code",
   "execution_count": 117,
   "id": "f503c9ea-a7f7-4c33-8389-89175ecbaa3d",
   "metadata": {},
   "outputs": [
    {
     "data": {
      "text/plain": [
       "False"
      ]
     },
     "execution_count": 117,
     "metadata": {},
     "output_type": "execute_result"
    }
   ],
   "source": [
    "np.array_equal(a,b)"
   ]
  },
  {
   "cell_type": "code",
   "execution_count": 118,
   "id": "3733893b-9856-4959-bcb2-05ef6bc050cb",
   "metadata": {},
   "outputs": [
    {
     "data": {
      "text/plain": [
       "0"
      ]
     },
     "execution_count": 118,
     "metadata": {},
     "output_type": "execute_result"
    }
   ],
   "source": [
    "# Encontrar Valor Minimo\n",
    "arr23.min()"
   ]
  },
  {
   "cell_type": "code",
   "execution_count": 119,
   "id": "cae050a5-0ec2-428b-969f-2d4ef454a08b",
   "metadata": {},
   "outputs": [
    {
     "data": {
      "text/plain": [
       "9"
      ]
     },
     "execution_count": 119,
     "metadata": {},
     "output_type": "execute_result"
    }
   ],
   "source": [
    "# Encontrar Valor Máximo\n",
    "arr23.max()"
   ]
  },
  {
   "cell_type": "code",
   "execution_count": 121,
   "id": "b823c4c1-2ed1-45c0-8fa2-4cfd9eef144d",
   "metadata": {},
   "outputs": [
    {
     "name": "stdout",
     "output_type": "stream",
     "text": [
      "[1.  1.5 2.  2.5 3.  3.5 4.  4.5]\n"
     ]
    }
   ],
   "source": [
    "arr24 = np.arange(1,5, 0.5)\n",
    "print(arr24)"
   ]
  },
  {
   "cell_type": "code",
   "execution_count": 123,
   "id": "00b94003-9960-4331-bf53-7d7934e80e97",
   "metadata": {},
   "outputs": [
    {
     "name": "stdout",
     "output_type": "stream",
     "text": [
      "[1. 2. 2. 2. 3. 4. 4. 4.]\n"
     ]
    }
   ],
   "source": [
    "# Método para arredondamento\n",
    "arr25 = np.around(arr24)\n",
    "print(arr25)"
   ]
  },
  {
   "cell_type": "markdown",
   "id": "5510b436-dfcf-4cf2-8b36-a094fbf75bfc",
   "metadata": {},
   "source": [
    "#### Método flatten()\n",
    "O método flatten com NumPy é usado para criar uma cópia unidimensional de um array multidimensional. Isso siginifca que o método cria um novo array unidimensional, que contém todos os elemtnos do array multidimensional original, mas que está organizado em uma única linha. A ordem dos elementos no novo array unidimensional segue a ordem dos elementos no array multidimensional original"
   ]
  },
  {
   "cell_type": "code",
   "execution_count": 124,
   "id": "01a74d19-d5e0-4b2a-957c-596481508814",
   "metadata": {},
   "outputs": [
    {
     "name": "stdout",
     "output_type": "stream",
     "text": [
      "[[7 6 2]\n",
      " [1 4 3]\n",
      " [8 9 2]]\n"
     ]
    }
   ],
   "source": [
    "arr26 = np.random.randint(0,10,(3,3))\n",
    "print(arr26)"
   ]
  },
  {
   "cell_type": "code",
   "execution_count": 125,
   "id": "d1bd2267-ea04-4f93-9b80-d969d6440a36",
   "metadata": {},
   "outputs": [
    {
     "name": "stdout",
     "output_type": "stream",
     "text": [
      "[7 6 2 1 4 3 8 9 2]\n"
     ]
    }
   ],
   "source": [
    "# Achantando a matriz\n",
    "arr27 = arr26.flatten()\n",
    "print(arr27)"
   ]
  },
  {
   "cell_type": "code",
   "execution_count": null,
   "id": "63d2f6fa-a527-40ce-a376-d60a87babd22",
   "metadata": {},
   "outputs": [],
   "source": []
  }
 ],
 "metadata": {
  "kernelspec": {
   "display_name": "base",
   "language": "python",
   "name": "python3"
  },
  "language_info": {
   "codemirror_mode": {
    "name": "ipython",
    "version": 3
   },
   "file_extension": ".py",
   "mimetype": "text/x-python",
   "name": "python",
   "nbconvert_exporter": "python",
   "pygments_lexer": "ipython3",
   "version": "3.11.7"
  }
 },
 "nbformat": 4,
 "nbformat_minor": 5
}
